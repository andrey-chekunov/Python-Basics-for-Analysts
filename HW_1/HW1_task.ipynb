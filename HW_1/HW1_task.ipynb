{
 "cells": [
  {
   "attachments": {},
   "cell_type": "markdown",
   "metadata": {},
   "source": [
    "## Условие 1:\n",
    "### Оформляйте ноутбук, используя эти советы:\n",
    "\n",
    "*   Номер задачи - заголовок 2\n",
    "*   Номер подзадачи - заголовок 3\n",
    "*   Предоставленные наборы данных оформляйте, как код `Code`"
   ]
  },
  {
   "attachments": {},
   "cell_type": "markdown",
   "metadata": {},
   "source": [
    "## Условие 2:\n",
    "На складе лежат разные фрукты в разном количестве.\n",
    "Нужно написать функцию, которая на вход принимает любое количество названий фруктов и их количество, а возвращает общее количество фруктов на складе, при помощи использования `kwargs`"
   ]
  },
  {
   "cell_type": "code",
   "execution_count": 2,
   "metadata": {},
   "outputs": [
    {
     "data": {
      "text/plain": [
       "1456"
      ]
     },
     "execution_count": 2,
     "metadata": {},
     "output_type": "execute_result"
    }
   ],
   "source": [
    "def amount_of_fruit(**kwargs: int) -> int:\n",
    "  '''Функция расчета общего количества фруктов'''\n",
    "  return sum(kwargs.values())\n",
    "  \n",
    "amount_of_fruit(apple=563, pear=180, orange=713)"
   ]
  },
  {
   "attachments": {},
   "cell_type": "markdown",
   "metadata": {},
   "source": [
    "## Условие 3:\n",
    "Дан список с затратами на рекламу. Но в данных есть ошибки, некоторые затраты имеют отрицательную величину. Удалите такие значения из списка и посчитайте суммарные затраты\n",
    "`[100, 125, -90, 345, 655, -1, 0, 200]`\n",
    "Используйте `list comprehensions`"
   ]
  },
  {
   "cell_type": "code",
   "execution_count": 3,
   "metadata": {},
   "outputs": [
    {
     "data": {
      "text/plain": [
       "1425"
      ]
     },
     "execution_count": 3,
     "metadata": {},
     "output_type": "execute_result"
    }
   ],
   "source": [
    "advertising_costs = [100, 125, -90, 345, 655, -1, 0, 200]\n",
    "\n",
    "def sum_positive_cost(*args: int) -> int:\n",
    "  '''Функция расчета суммы положительных затрат'''\n",
    "  return sum([value for value in args if value >= 0])\n",
    "\n",
    "sum_positive_cost(*advertising_costs)"
   ]
  },
  {
   "attachments": {},
   "cell_type": "markdown",
   "metadata": {},
   "source": [
    "## Условие 4:\n",
    "Даны два списка.\n",
    "\n",
    "Дата покупки\n",
    "`['2021-09-14', '2021-12-15', '2021-09-08', '2021-12-05', '2021-10-09', '2021-09-30', '2021-12-22', '2021-11-29', '2021-12-24', '2021-11-26', '2021-10-27', '2021-12-18', '2021-11-09', '2021-11-23', '2021-09-27', '2021-10-02', '2021-12-27', '2021-09-20', '2021-12-13', '2021-11-01', '2021-11-09', '2021-12-06', '2021-12-08', '2021-10-09', '2021-10-31', '2021-09-30', '2021-11-09', '2021-12-13', '2021-10-26', '2021-12-09']`\n",
    "\n",
    "Суммы покупок по датам\n",
    "`[1270, 8413, 9028, 3703, 5739, 4095, 295, 4944, 5723, 3701, 4471, 651, 7037, 4274, 6275, 4988, 6930, 2971, 6592, 2004, 2822, 519, 3406, 2732, 5015, 2008, 316, 6333, 5700, 2887]`"
   ]
  },
  {
   "cell_type": "code",
   "execution_count": 4,
   "metadata": {},
   "outputs": [],
   "source": [
    "date_of_purchase = ['2021-09-14', '2021-12-15', '2021-09-08', '2021-12-05', \n",
    "                    '2021-10-09', '2021-09-30', '2021-12-22', '2021-11-29', \n",
    "                    '2021-12-24', '2021-11-26', '2021-10-27', '2021-12-18', \n",
    "                    '2021-11-09', '2021-11-23', '2021-09-27', '2021-10-02', \n",
    "                    '2021-12-27', '2021-09-20', '2021-12-13', '2021-11-01', \n",
    "                    '2021-11-09', '2021-12-06', '2021-12-08', '2021-10-09', \n",
    "                    '2021-10-31', '2021-09-30', '2021-11-09', '2021-12-13', \n",
    "                    '2021-10-26', '2021-12-09']\n",
    "                    \n",
    "purchase_amounts_by_dates = [1270, 8413, 9028, 3703, 5739, 4095, 295, 4944, \n",
    "                             5723, 3701, 4471, 651, 7037, 4274, 6275, 4988, \n",
    "                             6930, 2971, 6592, 2004, 2822, 519, 3406, 2732, \n",
    "                             5015, 2008, 316, 6333, 5700, 2887]"
   ]
  },
  {
   "attachments": {},
   "cell_type": "markdown",
   "metadata": {},
   "source": [
    "### Условие 4.1:\n",
    "Найдите, какая выручка у компании в ноябре.\n",
    "Используйте `list comprehensions`"
   ]
  },
  {
   "cell_type": "code",
   "execution_count": 5,
   "metadata": {},
   "outputs": [
    {
     "data": {
      "text/plain": [
       "25098"
      ]
     },
     "execution_count": 5,
     "metadata": {},
     "output_type": "execute_result"
    }
   ],
   "source": [
    "def purchase_by_month(dates: list, amounts: list, month: int) -> int: \n",
    "  '''Функция расчета выручки в выбранных месяцах'''\n",
    "  month = f'-{month}-'\n",
    "  return sum([value for key, value in zip(dates, amounts) if month in key])\n",
    "\n",
    "November = 11\n",
    "purchase_by_month(date_of_purchase, purchase_amounts_by_dates, November)"
   ]
  },
  {
   "attachments": {},
   "cell_type": "markdown",
   "metadata": {},
   "source": [
    "### Условие 4.2:\n",
    "Найдите выручку компании в зависимости от месяца.\n",
    "Для этого напишите функцию, которая на вход принимает список `list` с датами и список `list` с выручкой, а на выходе словарь `dict`, где ключи - это месяцы, а значения - это выручка.\n",
    "Используйте аннотирование типов."
   ]
  },
  {
   "cell_type": "code",
   "execution_count": 6,
   "metadata": {},
   "outputs": [
    {
     "data": {
      "text/plain": [
       "{'09': 25647, '10': 28645, '11': 25098, '12': 45452}"
      ]
     },
     "execution_count": 6,
     "metadata": {},
     "output_type": "execute_result"
    }
   ],
   "source": [
    "def revenue_by_months(dates: list, amounts: list) -> dict: \n",
    "  '''Функция расчета выручки по месяцам'''\n",
    "  month = [date.split('-')[1] for date in dates]\n",
    "  dict_revenue = {}\n",
    "  for key, value in zip(month, amounts):\n",
    "    get_value = dict_revenue.get(key)    \n",
    "    dict_revenue[key] = value + get_value if get_value else value\n",
    "  return dict(sorted(dict_revenue.items()))\n",
    "\n",
    "revenue_by_months(date_of_purchase, purchase_amounts_by_dates)"
   ]
  }
 ],
 "metadata": {
  "kernelspec": {
   "display_name": "Python 3",
   "language": "python",
   "name": "python3"
  },
  "language_info": {
   "codemirror_mode": {
    "name": "ipython",
    "version": 3
   },
   "file_extension": ".py",
   "mimetype": "text/x-python",
   "name": "python",
   "nbconvert_exporter": "python",
   "pygments_lexer": "ipython3",
   "version": "3.10.7"
  },
  "orig_nbformat": 4,
  "vscode": {
   "interpreter": {
    "hash": "6847c98a8f86b01c6a19c518cd2f366693b80566b266804d5ca763cbb223f52b"
   }
  }
 },
 "nbformat": 4,
 "nbformat_minor": 2
}
